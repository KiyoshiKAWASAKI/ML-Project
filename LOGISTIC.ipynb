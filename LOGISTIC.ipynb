{
 "cells": [
  {
   "cell_type": "code",
   "execution_count": 1,
   "metadata": {
    "collapsed": false
   },
   "outputs": [
    {
     "name": "stdout",
     "output_type": "stream",
     "text": [
      "Index(['color', 'director_name', 'num_critic_for_reviews', 'duration',\n",
      "       'director_facebook_likes', 'actor_3_facebook_likes', 'actor_2_name',\n",
      "       'actor_1_facebook_likes', 'gross', 'genres', 'actor_1_name',\n",
      "       'movie_title', 'num_voted_users', 'cast_total_facebook_likes',\n",
      "       'actor_3_name', 'facenumber_in_poster', 'plot_keywords',\n",
      "       'movie_imdb_link', 'num_user_for_reviews', 'language', 'country',\n",
      "       'content_rating', 'budget', 'title_year', 'actor_2_facebook_likes',\n",
      "       'imdb_score', 'aspect_ratio', 'movie_facebook_likes'],\n",
      "      dtype='object')\n"
     ]
    }
   ],
   "source": [
    "import pandas as pd\n",
    "data=pd.read_csv(\"F:/ML/movie_metadata.csv\")\n",
    "df = data.dropna(axis = 0)\n",
    "print(df.columns)"
   ]
  },
  {
   "cell_type": "code",
   "execution_count": 65,
   "metadata": {
    "collapsed": false
   },
   "outputs": [
    {
     "name": "stdout",
     "output_type": "stream",
     "text": [
      "0.695478723404\n"
     ]
    }
   ],
   "source": [
    "import numpy as np\n",
    "from sklearn.linear_model import LogisticRegression\n",
    "from sklearn.cross_validation import train_test_split\n",
    "\n",
    "numerical_data=df[['director_facebook_likes','num_critic_for_reviews']]\n",
    "score=np.array(df[['imdb_score']])\n",
    "good=[]\n",
    "for i in range(len(score)):\n",
    "    if score[i]>=7.0:\n",
    "       good.append(1)\n",
    "    else :\n",
    "       good.append(0)\n",
    "X=numerical_data\n",
    "y=good\n",
    "X_train,X_test,y_train,y_test=train_test_split(X,y,test_size=0.2)\n",
    "model = LogisticRegression(C=10)\n",
    "model.fit(X_train, y_train)\n",
    "y_pred = model.predict(X_test)    \n",
    "accuracy_test = (y_pred == y_test).mean()\n",
    "print(accuracy_test)"
   ]
  },
  {
   "cell_type": "markdown",
   "metadata": {
    "collapsed": true
   },
   "source": [
    "  We choose two variables 'director_facebook_likes'and 'num_critic_for_reviews' ,which are the most realated variables by analyzing the trend of variables as our training set. Because it is logistic regression, we must classify all movies to two parts, one is the movies whose scores more than 7.0 and the other part is the movie whose score less than 7.0. Thus we can mark the movies whose scores more than 7.0 as 1 and otherwise as 0. Finally,by coumputing the accuracy of test set, we can get a score for logistic regression."
   ]
  },
  {
   "cell_type": "code",
   "execution_count": 71,
   "metadata": {
    "collapsed": false
   },
   "outputs": [
    {
     "name": "stdout",
     "output_type": "stream",
     "text": [
      "0.726063829787\n"
     ]
    }
   ],
   "source": [
    "numerical_data=df[['director_facebook_likes','duration','num_critic_for_reviews']]\n",
    "score=np.array(df[['imdb_score']])\n",
    "good=[]\n",
    "for i in range(len(score)):\n",
    "    if score[i]>=7.0:\n",
    "       good.append(1)\n",
    "    else :\n",
    "       good.append(0)\n",
    "X=numerical_data\n",
    "y=good\n",
    "X_train,X_test,y_train,y_test=train_test_split(X,y,test_size=0.2)\n",
    "model = LogisticRegression(C=10)\n",
    "model.fit(X_train, y_train)\n",
    "y_pred = model.predict(X_test)    \n",
    "accuracy_test = (y_pred == y_test).mean()\n",
    "print(accuracy_test)"
   ]
  },
  {
   "cell_type": "markdown",
   "metadata": {},
   "source": [
    "  Second, we add another variable 'duration'. which is the most related variable by doing the random forest. We can see the score of accuracy is larger than before. So now, we can use these three variables to predict imdb scores by liner regression."
   ]
  },
  {
   "cell_type": "code",
   "execution_count": 80,
   "metadata": {
    "collapsed": false
   },
   "outputs": [
    {
     "name": "stdout",
     "output_type": "stream",
     "text": [
      "MSE for test: 0.877613637834\n",
      "MSE for training: 0.87399658102\n"
     ]
    }
   ],
   "source": [
    "from sklearn import linear_model\n",
    "import matplotlib.pyplot as plt\n",
    "y=np.array(df[['imdb_score']])\n",
    "x=np.array(df[['director_facebook_likes','duration','num_critic_for_reviews']])\n",
    "x_train,x_test,y_train,y_test=train_test_split(x,y,test_size=0.2)\n",
    "reg=linear_model.LinearRegression()\n",
    "reg.fit(x_train,y_train)\n",
    "print('MSE for test:',np.mean((reg.predict(x_test)-y_test) ** 2))\n",
    "print('MSE for training:',np.mean((reg.predict(x_train)-y_train) ** 2))  \n"
   ]
  }
 ],
 "metadata": {
  "anaconda-cloud": {},
  "kernelspec": {
   "display_name": "Python [conda root]",
   "language": "python",
   "name": "conda-root-py"
  },
  "language_info": {
   "codemirror_mode": {
    "name": "ipython",
    "version": 3
   },
   "file_extension": ".py",
   "mimetype": "text/x-python",
   "name": "python",
   "nbconvert_exporter": "python",
   "pygments_lexer": "ipython3",
   "version": "3.5.2"
  }
 },
 "nbformat": 4,
 "nbformat_minor": 1
}
