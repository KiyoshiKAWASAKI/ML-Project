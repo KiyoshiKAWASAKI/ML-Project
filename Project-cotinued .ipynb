{
 "cells": [
  {
   "cell_type": "code",
   "execution_count": 1,
   "metadata": {
    "collapsed": false
   },
   "outputs": [
    {
     "name": "stdout",
     "output_type": "stream",
     "text": [
      "(5043, 28)\n",
      "Index(['color', 'director_name', 'num_critic_for_reviews', 'duration',\n",
      "       'director_facebook_likes', 'actor_3_facebook_likes', 'actor_2_name',\n",
      "       'actor_1_facebook_likes', 'gross', 'genres', 'actor_1_name',\n",
      "       'movie_title', 'num_voted_users', 'cast_total_facebook_likes',\n",
      "       'actor_3_name', 'facenumber_in_poster', 'plot_keywords',\n",
      "       'movie_imdb_link', 'num_user_for_reviews', 'language', 'country',\n",
      "       'content_rating', 'budget', 'title_year', 'actor_2_facebook_likes',\n",
      "       'imdb_score', 'aspect_ratio', 'movie_facebook_likes'],\n",
      "      dtype='object')\n"
     ]
    }
   ],
   "source": [
    "import pandas as pd\n",
    "import numpy as np\n",
    "import seaborn as sns\n",
    "from sklearn import datasets, linear_model\n",
    "from sklearn.metrics import mean_squared_error\n",
    "from matplotlib import pyplot as plt \n",
    "from sklearn.preprocessing import Imputer,StandardScaler\n",
    "from sklearn.metrics import explained_variance_score\n",
    "\n",
    "%matplotlib inline \n",
    "movies = pd.read_csv('D:\\\\movie_metadata.csv', \n",
    "                  error_bad_lines=False)\n",
    "print (movies.shape)\n",
    "print (movies.columns)"
   ]
  },
  {
   "cell_type": "code",
   "execution_count": 2,
   "metadata": {
    "collapsed": true
   },
   "outputs": [],
   "source": [
    "numerical_data = movies.select_dtypes(exclude=[\"object\"])\n",
    "numerical_data=numerical_data.dropna(axis=0)"
   ]
  },
  {
   "cell_type": "code",
   "execution_count": 4,
   "metadata": {
    "collapsed": false
   },
   "outputs": [
    {
     "name": "stdout",
     "output_type": "stream",
     "text": [
      "      num_critic_for_reviews  duration  director_facebook_likes  \\\n",
      "0                      723.0     178.0                      0.0   \n",
      "1                      302.0     169.0                    563.0   \n",
      "2                      602.0     148.0                      0.0   \n",
      "3                      813.0     164.0                  22000.0   \n",
      "5                      462.0     132.0                    475.0   \n",
      "6                      392.0     156.0                      0.0   \n",
      "7                      324.0     100.0                     15.0   \n",
      "8                      635.0     141.0                      0.0   \n",
      "9                      375.0     153.0                    282.0   \n",
      "10                     673.0     183.0                      0.0   \n",
      "11                     434.0     169.0                      0.0   \n",
      "12                     403.0     106.0                    395.0   \n",
      "13                     313.0     151.0                    563.0   \n",
      "14                     450.0     150.0                    563.0   \n",
      "15                     733.0     143.0                      0.0   \n",
      "16                     258.0     150.0                     80.0   \n",
      "17                     703.0     173.0                      0.0   \n",
      "18                     448.0     136.0                    252.0   \n",
      "19                     451.0     106.0                    188.0   \n",
      "20                     422.0     164.0                      0.0   \n",
      "21                     599.0     153.0                    464.0   \n",
      "22                     343.0     156.0                      0.0   \n",
      "23                     509.0     186.0                      0.0   \n",
      "24                     251.0     113.0                    129.0   \n",
      "25                     446.0     201.0                      0.0   \n",
      "26                     315.0     194.0                      0.0   \n",
      "27                     516.0     147.0                     94.0   \n",
      "28                     377.0     131.0                    532.0   \n",
      "29                     644.0     124.0                    365.0   \n",
      "30                     750.0     143.0                      0.0   \n",
      "...                      ...       ...                      ...   \n",
      "4941                    40.0      91.0                    909.0   \n",
      "4955                    31.0     111.0                    589.0   \n",
      "4956                   159.0      81.0                      3.0   \n",
      "4958                     1.0     110.0                      0.0   \n",
      "4959                    21.0      81.0                    467.0   \n",
      "4962                    88.0      90.0                     56.0   \n",
      "4964                   193.0      88.0                      3.0   \n",
      "4971                   241.0     114.0                     29.0   \n",
      "4973                   138.0      84.0                      0.0   \n",
      "4975                    32.0      87.0                      0.0   \n",
      "4977                   193.0     100.0                    293.0   \n",
      "4978                    66.0      82.0                     32.0   \n",
      "4979                    65.0      82.0                    217.0   \n",
      "4984                    36.0      98.0                      0.0   \n",
      "4987                   113.0      98.0                    969.0   \n",
      "4997                    75.0      90.0                    234.0   \n",
      "4998                    21.0      90.0                      4.0   \n",
      "5004                     3.0      78.0                      6.0   \n",
      "5008                   136.0     102.0                      0.0   \n",
      "5011                    80.0      97.0                    119.0   \n",
      "5012                   233.0     109.0                    453.0   \n",
      "5015                    61.0     100.0                      0.0   \n",
      "5023                    22.0      88.0                     38.0   \n",
      "5025                    73.0     108.0                      0.0   \n",
      "5026                    81.0     110.0                    107.0   \n",
      "5027                    64.0      90.0                    397.0   \n",
      "5029                    78.0     111.0                     62.0   \n",
      "5033                   143.0      77.0                    291.0   \n",
      "5035                    56.0      81.0                      0.0   \n",
      "5042                    43.0      90.0                     16.0   \n",
      "\n",
      "      actor_3_facebook_likes  actor_1_facebook_likes        gross  \\\n",
      "0                      855.0                  1000.0  760505847.0   \n",
      "1                     1000.0                 40000.0  309404152.0   \n",
      "2                      161.0                 11000.0  200074175.0   \n",
      "3                    23000.0                 27000.0  448130642.0   \n",
      "5                      530.0                   640.0   73058679.0   \n",
      "6                     4000.0                 24000.0  336530303.0   \n",
      "7                      284.0                   799.0  200807262.0   \n",
      "8                    19000.0                 26000.0  458991599.0   \n",
      "9                    10000.0                 25000.0  301956980.0   \n",
      "10                    2000.0                 15000.0  330249062.0   \n",
      "11                     903.0                 18000.0  200069408.0   \n",
      "12                     393.0                   451.0  168368427.0   \n",
      "13                    1000.0                 40000.0  423032628.0   \n",
      "14                    1000.0                 40000.0   89289910.0   \n",
      "15                     748.0                 15000.0  291021565.0   \n",
      "16                     201.0                 22000.0  141614023.0   \n",
      "17                   19000.0                 26000.0  623279547.0   \n",
      "18                    1000.0                 40000.0  241063875.0   \n",
      "19                     718.0                 10000.0  179020854.0   \n",
      "20                     773.0                  5000.0  255108370.0   \n",
      "21                     963.0                 15000.0  262030663.0   \n",
      "22                     738.0                   891.0  105219735.0   \n",
      "23                     773.0                  5000.0  258355354.0   \n",
      "24                    1000.0                 16000.0   70083519.0   \n",
      "25                      84.0                  6000.0  218051260.0   \n",
      "26                     794.0                 29000.0  658672302.0   \n",
      "27                   11000.0                 21000.0  407197282.0   \n",
      "28                     627.0                 14000.0   65173160.0   \n",
      "29                    1000.0                  3000.0  652177271.0   \n",
      "30                     393.0                   883.0  304360277.0   \n",
      "...                      ...                     ...          ...   \n",
      "4941                    42.0                   909.0    6706368.0   \n",
      "4955                    51.0                   589.0   10174663.0   \n",
      "4956                     7.0                   220.0   22757819.0   \n",
      "4958                     0.0                     2.0    3000000.0   \n",
      "4959                   287.0                   467.0    5228617.0   \n",
      "4962                    56.0                   126.0     110536.0   \n",
      "4964                   307.0                  3000.0      59379.0   \n",
      "4971                   616.0                   956.0   32721635.0   \n",
      "4973                   194.0                  1000.0    3216970.0   \n",
      "4975                   153.0                  1000.0     536767.0   \n",
      "4977                     0.0                     0.0   11529368.0   \n",
      "4978                   128.0                   968.0      40557.0   \n",
      "4979                   442.0                 10000.0      30084.0   \n",
      "4984                    73.0                   138.0   10246600.0   \n",
      "4987                   433.0                   969.0     389804.0   \n",
      "4997                    15.0                   552.0     241816.0   \n",
      "4998                   113.0                 20000.0     277233.0   \n",
      "5004                    17.0                    32.0     243768.0   \n",
      "5008                   216.0                   898.0    3151130.0   \n",
      "5011                     7.0                   136.0    2856622.0   \n",
      "5012                   120.0                  1000.0   10499968.0   \n",
      "5015                     0.0                     5.0    1227508.0   \n",
      "5023                   211.0                   331.0      76382.0   \n",
      "5025                   105.0                   462.0     180483.0   \n",
      "5026                    45.0                   576.0     136007.0   \n",
      "5027                     0.0                     5.0     673780.0   \n",
      "5029                     6.0                    89.0      94596.0   \n",
      "5033                     8.0                   291.0     424760.0   \n",
      "5035                     6.0                   121.0    2040920.0   \n",
      "5042                    16.0                    86.0      85222.0   \n",
      "\n",
      "      num_voted_users  cast_total_facebook_likes  facenumber_in_poster  \\\n",
      "0              886204                       4834                   0.0   \n",
      "1              471220                      48350                   0.0   \n",
      "2              275868                      11700                   1.0   \n",
      "3             1144337                     106759                   0.0   \n",
      "5              212204                       1873                   1.0   \n",
      "6              383056                      46055                   0.0   \n",
      "7              294810                       2036                   1.0   \n",
      "8              462669                      92000                   4.0   \n",
      "9              321795                      58753                   3.0   \n",
      "10             371639                      24450                   0.0   \n",
      "11             240396                      29991                   0.0   \n",
      "12             330784                       2023                   1.0   \n",
      "13             522040                      48486                   2.0   \n",
      "14             181792                      45757                   1.0   \n",
      "15             548573                      20495                   0.0   \n",
      "16             149922                      22697                   4.0   \n",
      "17             995415                      87697                   3.0   \n",
      "18             370704                      54083                   4.0   \n",
      "19             268154                      12572                   1.0   \n",
      "20             354228                       9152                   0.0   \n",
      "21             451803                      28489                   0.0   \n",
      "22             211765                       3244                   0.0   \n",
      "23             483540                       9152                   6.0   \n",
      "24             149019                      24106                   2.0   \n",
      "25             316018                       7123                   0.0   \n",
      "26             793059                      45223                   0.0   \n",
      "27             272670                      64798                   0.0   \n",
      "28             202382                      26679                   0.0   \n",
      "29             418214                       8458                   0.0   \n",
      "30             522030                       2039                   0.0   \n",
      "...               ...                        ...                   ...   \n",
      "4941            22800                       1048                   0.0   \n",
      "4955            12399                        916                   0.0   \n",
      "4956            13521                        276                   0.0   \n",
      "4958                5                          4                   1.0   \n",
      "4959             2770                       1431                   1.0   \n",
      "4962             4117                        284                   1.0   \n",
      "4964            12796                       4729                   3.0   \n",
      "4971            67824                       3861                   0.0   \n",
      "4973           142619                       2065                   0.0   \n",
      "4975             1622                       1362                   0.0   \n",
      "4977            85028                          0                   2.0   \n",
      "4978             1389                       2046                   0.0   \n",
      "4979             5507                      11642                   3.0   \n",
      "4984             6375                        388                   0.0   \n",
      "4987            11816                       2530                   0.0   \n",
      "4997             6246                        642                   0.0   \n",
      "4998             2631                      20814                   5.0   \n",
      "5004              143                         72                   0.0   \n",
      "5008           181749                       2103                   4.0   \n",
      "5011            11550                        254                   0.0   \n",
      "5012            47502                       1458                   3.0   \n",
      "5015            15103                          5                   0.0   \n",
      "5023             1194                       1546                   2.0   \n",
      "5025            16792                        760                   2.0   \n",
      "5026             3924                        776                   1.0   \n",
      "5027             4555                          5                   0.0   \n",
      "5029             6318                        115                   0.0   \n",
      "5033            72639                        368                   0.0   \n",
      "5035            52055                        147                   0.0   \n",
      "5042             4285                        163                   0.0   \n",
      "\n",
      "      num_user_for_reviews       budget  title_year  actor_2_facebook_likes  \\\n",
      "0                   3054.0  237000000.0      2009.0                   936.0   \n",
      "1                   1238.0  300000000.0      2007.0                  5000.0   \n",
      "2                    994.0  245000000.0      2015.0                   393.0   \n",
      "3                   2701.0  250000000.0      2012.0                 23000.0   \n",
      "5                    738.0  263700000.0      2012.0                   632.0   \n",
      "6                   1902.0  258000000.0      2007.0                 11000.0   \n",
      "7                    387.0  260000000.0      2010.0                   553.0   \n",
      "8                   1117.0  250000000.0      2015.0                 21000.0   \n",
      "9                    973.0  250000000.0      2009.0                 11000.0   \n",
      "10                  3018.0  250000000.0      2016.0                  4000.0   \n",
      "11                  2367.0  209000000.0      2006.0                 10000.0   \n",
      "12                  1243.0  200000000.0      2008.0                   412.0   \n",
      "13                  1832.0  225000000.0      2006.0                  5000.0   \n",
      "14                   711.0  215000000.0      2013.0                  2000.0   \n",
      "15                  2536.0  225000000.0      2013.0                  3000.0   \n",
      "16                   438.0  225000000.0      2008.0                   216.0   \n",
      "17                  1722.0  220000000.0      2012.0                 21000.0   \n",
      "18                   484.0  250000000.0      2011.0                 11000.0   \n",
      "19                   341.0  225000000.0      2012.0                   816.0   \n",
      "20                   802.0  250000000.0      2014.0                   972.0   \n",
      "21                  1225.0  230000000.0      2012.0                 10000.0   \n",
      "22                   546.0  200000000.0      2010.0                   882.0   \n",
      "23                   951.0  225000000.0      2013.0                   972.0   \n",
      "24                   666.0  180000000.0      2007.0                  6000.0   \n",
      "25                  2618.0  207000000.0      2005.0                   919.0   \n",
      "26                  2528.0  200000000.0      1997.0                 14000.0   \n",
      "27                  1022.0  250000000.0      2016.0                 19000.0   \n",
      "28                   751.0  209000000.0      2012.0                 10000.0   \n",
      "29                  1290.0  150000000.0      2015.0                  2000.0   \n",
      "30                  1498.0  200000000.0      2012.0                   563.0   \n",
      "...                    ...          ...         ...                     ...   \n",
      "4941                 133.0     160000.0      1989.0                    91.0   \n",
      "4955                 382.0     100000.0      2006.0                   150.0   \n",
      "4956                 150.0     100000.0      2015.0                    40.0   \n",
      "4958                   1.0     100000.0      1920.0                     2.0   \n",
      "4959                  32.0     100000.0      1987.0                   322.0   \n",
      "4962                 118.0      40000.0      2001.0                    76.0   \n",
      "4964                  52.0     200000.0      2013.0                   982.0   \n",
      "4971                 279.0   15000000.0      2009.0                   878.0   \n",
      "4973                 586.0      60000.0      1998.0                   512.0   \n",
      "4975                  83.0      60000.0      1998.0                   184.0   \n",
      "4977                 404.0      65000.0      2004.0                     0.0   \n",
      "4978                  22.0      60000.0      2011.0                   407.0   \n",
      "4979                  23.0      70000.0      2014.0                   969.0   \n",
      "4984                  36.0      25000.0      1995.0                   111.0   \n",
      "4987                  35.0      65000.0      2010.0                   529.0   \n",
      "4997                  76.0      42000.0      2000.0                    61.0   \n",
      "4998                  26.0      40000.0      1999.0                   467.0   \n",
      "5004                   9.0      30000.0      2007.0                    17.0   \n",
      "5008                 615.0     230000.0      1994.0                   657.0   \n",
      "5011                 197.0      25000.0      1997.0                   108.0   \n",
      "5012                 212.0   35000000.0      2014.0                   206.0   \n",
      "5015                  80.0      23000.0      1991.0                     0.0   \n",
      "5023                   8.0      15000.0      2009.0                   212.0   \n",
      "5025                 183.0      10000.0      1972.0                   143.0   \n",
      "5026                  39.0       4500.0      2004.0                   133.0   \n",
      "5027                  26.0      10000.0      2000.0                     0.0   \n",
      "5029                  50.0    1000000.0      1997.0                    13.0   \n",
      "5033                 371.0       7000.0      2004.0                    45.0   \n",
      "5035                 130.0       7000.0      1992.0                    20.0   \n",
      "5042                  84.0       1100.0      2004.0                    23.0   \n",
      "\n",
      "      imdb_score  aspect_ratio  movie_facebook_likes  \n",
      "0            7.9          1.78                 33000  \n",
      "1            7.1          2.35                     0  \n",
      "2            6.8          2.35                 85000  \n",
      "3            8.5          2.35                164000  \n",
      "5            6.6          2.35                 24000  \n",
      "6            6.2          2.35                     0  \n",
      "7            7.8          1.85                 29000  \n",
      "8            7.5          2.35                118000  \n",
      "9            7.5          2.35                 10000  \n",
      "10           6.9          2.35                197000  \n",
      "11           6.1          2.35                     0  \n",
      "12           6.7          2.35                     0  \n",
      "13           7.3          2.35                  5000  \n",
      "14           6.5          2.35                 48000  \n",
      "15           7.2          2.35                118000  \n",
      "16           6.6          2.35                     0  \n",
      "17           8.1          1.85                123000  \n",
      "18           6.7          2.35                 58000  \n",
      "19           6.8          1.85                 40000  \n",
      "20           7.5          2.35                 65000  \n",
      "21           7.0          2.35                 56000  \n",
      "22           6.7          2.35                 17000  \n",
      "23           7.9          2.35                 83000  \n",
      "24           6.1          2.35                     0  \n",
      "25           7.2          2.35                     0  \n",
      "26           7.7          2.35                 26000  \n",
      "27           8.2          2.35                 72000  \n",
      "28           5.9          2.35                 44000  \n",
      "29           7.0          2.00                150000  \n",
      "30           7.8          2.35                 80000  \n",
      "...          ...           ...                   ...  \n",
      "4941         7.5          1.66                   667  \n",
      "4955         6.7          1.85                     0  \n",
      "4956         4.2          1.85                     0  \n",
      "4958         4.8          1.33                     0  \n",
      "4959         7.0          1.85                   471  \n",
      "4962         7.0          1.85                     0  \n",
      "4964         6.8          2.35                     0  \n",
      "4971         6.6          1.85                     0  \n",
      "4973         7.5          1.66                 24000  \n",
      "4975         5.3          1.85                    30  \n",
      "4977         7.3          1.78                     0  \n",
      "4978         5.6          2.35                     0  \n",
      "4979         5.6          1.85                   812  \n",
      "4984         6.6          1.85                   265  \n",
      "4987         6.3          2.35                     0  \n",
      "4997         7.5          2.35                   451  \n",
      "4998         7.6          1.85                     0  \n",
      "5004         4.1          2.35                    13  \n",
      "5008         7.8          1.37                     0  \n",
      "5011         7.3          1.85                   489  \n",
      "5012         5.7          1.85                 10000  \n",
      "5015         7.1          1.37                  2000  \n",
      "5023         6.2          2.35                   324  \n",
      "5025         6.1          1.37                     0  \n",
      "5026         6.9          2.35                   171  \n",
      "5027         7.5          1.85                   697  \n",
      "5029         7.4          1.85                   817  \n",
      "5033         7.0          1.85                 19000  \n",
      "5035         6.9          1.37                     0  \n",
      "5042         6.6          1.85                   456  \n",
      "\n",
      "[3801 rows x 16 columns]\n"
     ]
    }
   ],
   "source": [
    "print(numerical_data)"
   ]
  },
  {
   "cell_type": "code",
   "execution_count": 6,
   "metadata": {
    "collapsed": false
   },
   "outputs": [],
   "source": [
    "score=numerical_data[\"imdb_score\"]\n",
    "numerical_data = numerical_data.drop([\"title_year\"],axis=1)\n",
    "numerical_data = numerical_data.drop([\"imdb_score\"],axis=1)"
   ]
  },
  {
   "cell_type": "code",
   "execution_count": 7,
   "metadata": {
    "collapsed": false
   },
   "outputs": [
    {
     "name": "stderr",
     "output_type": "stream",
     "text": [
      "E:\\Anaconda3\\lib\\site-packages\\statsmodels\\nonparametric\\kdetools.py:20: VisibleDeprecationWarning: using a non-integer number instead of an integer will result in an error in the future\n",
      "  y = X[:m/2+1] + np.r_[0,X[m/2+1:],0]*1j\n"
     ]
    },
    {
     "data": {
      "text/plain": [
       "<matplotlib.legend.Legend at 0x195373c7400>"
      ]
     },
     "execution_count": 7,
     "metadata": {},
     "output_type": "execute_result"
    },
    {
     "data": {
      "image/png": "[encoded data removed]",
      "text/plain": [
       "<matplotlib.figure.Figure at 0x195372fb780>"
      ]
     },
     "metadata": {},
     "output_type": "display_data"
    }
   ],
   "source": [
    "sns.distplot(score,rug=True,label=\"IMDB Scores\").legend()"
   ]
  },
  {
   "cell_type": "code",
   "execution_count": 26,
   "metadata": {
    "collapsed": false
   },
   "outputs": [
    {
     "name": "stdout",
     "output_type": "stream",
     "text": [
      "Slope: \n",
      " [  1.31239970e-03   1.36228700e-02   1.07484215e-05   4.43485932e-05\n",
      "   5.81983361e-05  -8.79592002e-10   3.74479646e-06  -5.58822615e-05\n",
      "  -3.17278866e-02  -5.84574341e-04  -2.64562868e-11   6.05904071e-05\n",
      "  -1.38484334e-01]\n",
      "Intercept:\n",
      " 4.83930941186\n",
      "Score: 0.05\n",
      "Mean squared error: 1.12\n",
      "explained_variance_score: 0.23\n"
     ]
    }
   ],
   "source": [
    "reg= linear_model.LinearRegression()\n",
    "x_trainA=numerical_data.iloc[:-1000,0:13]\n",
    "y_trainA=score.iloc[:-1000]\n",
    "x_testA=numerical_data.iloc[-1000:,0:13]\n",
    "y_testA=score.iloc[-1000:]\n",
    "\n",
    "reg.fit(x_trainA,y_trainA)\n",
    "print('Slope: \\n', reg.coef_)\n",
    "print('Intercept:\\n',reg.intercept_)\n",
    "print('Score: %.2f' % reg.score(x_testA, y_testA))\n",
    "print(\"Mean squared error: %.2f\"\n",
    "      % mean_squared_error(y_testA,reg.predict(x_testA)))\n",
    "print('explained_variance_score: %.2f'%explained_variance_score(y_testA, reg.predict(x_testA)))"
   ]
  },
  {
   "cell_type": "code",
   "execution_count": 7,
   "metadata": {
    "collapsed": false
   },
   "outputs": [
    {
     "name": "stderr",
     "output_type": "stream",
     "text": [
      "E:\\Anaconda3\\lib\\site-packages\\statsmodels\\nonparametric\\kdetools.py:20: VisibleDeprecationWarning: using a non-integer number instead of an integer will result in an error in the future\n",
      "  y = X[:m/2+1] + np.r_[0,X[m/2+1:],0]*1j\n"
     ]
    },
    {
     "data": {
      "text/plain": [
       "<matplotlib.legend.Legend at 0x207a330f2e8>"
      ]
     },
     "execution_count": 7,
     "metadata": {},
     "output_type": "execute_result"
    },
    {
     "data": {
      "image/png": "[encoded data removed]",
      "text/plain": [
       "<matplotlib.figure.Figure at 0x2079d91e9b0>"
      ]
     },
     "metadata": {},
     "output_type": "display_data"
    }
   ],
   "source": [
    "sns.distplot(reg.predict(x_trainA),rug=True,label=\"IMDB Scores\").legend()"
   ]
  },
  {
   "cell_type": "markdown",
   "metadata": {},
   "source": [
    "we can see that the linear regression model does not perform well.From the graph we could see that it loses the scores that are smaller than 5. Although the mean of the data predicts well, the trend of the result is far away from the original data in that it ranges smaller."
   ]
  },
  {
   "cell_type": "code",
   "execution_count": 8,
   "metadata": {
    "collapsed": false
   },
   "outputs": [
    {
     "name": "stdout",
     "output_type": "stream",
     "text": [
      "Score: -0.11\n",
      "Mean squared error: 1.30\n",
      "explained_variance_score: -0.11\n"
     ]
    }
   ],
   "source": [
    "from sklearn.neighbors import KNeighborsRegressor\n",
    "neigh = KNeighborsRegressor(n_neighbors=5)\n",
    "neigh.fit(x_trainA,y_trainA)\n",
    "print('Score: %.2f' % neigh.score(x_testA, y_testA))\n",
    "print(\"Mean squared error: %.2f\"\n",
    "      % mean_squared_error(y_testA,neigh.predict(x_testA)))\n",
    "print('explained_variance_score: %.2f'%explained_variance_score(y_testA, neigh.predict(x_testA)))"
   ]
  },
  {
   "cell_type": "code",
   "execution_count": 9,
   "metadata": {
    "collapsed": false
   },
   "outputs": [
    {
     "name": "stderr",
     "output_type": "stream",
     "text": [
      "E:\\Anaconda3\\lib\\site-packages\\statsmodels\\nonparametric\\kdetools.py:20: VisibleDeprecationWarning: using a non-integer number instead of an integer will result in an error in the future\n",
      "  y = X[:m/2+1] + np.r_[0,X[m/2+1:],0]*1j\n"
     ]
    },
    {
     "data": {
      "text/plain": [
       "<matplotlib.legend.Legend at 0x207a7663f98>"
      ]
     },
     "execution_count": 9,
     "metadata": {},
     "output_type": "execute_result"
    },
    {
     "data": {
      "image/png": "[encoded data removed]",
      "text/plain": [
       "<matplotlib.figure.Figure at 0x207a32f2da0>"
      ]
     },
     "metadata": {},
     "output_type": "display_data"
    }
   ],
   "source": [
    "sns.distplot(neigh.predict(x_trainA),rug=True,label=\"IMDB Scores\").legend()"
   ]
  },
  {
   "cell_type": "code",
   "execution_count": 10,
   "metadata": {
    "collapsed": false
   },
   "outputs": [
    {
     "name": "stdout",
     "output_type": "stream",
     "text": [
      "Score: -0.01\n",
      "Mean squared error: 1.19\n",
      "explained_variance_score: -0.01\n"
     ]
    }
   ],
   "source": [
    "neigh2 = KNeighborsRegressor(n_neighbors=15)\n",
    "neigh2.fit(x_trainA,y_trainA)\n",
    "print('Score: %.2f' % neigh2.score(x_testA, y_testA))\n",
    "print(\"Mean squared error: %.2f\"\n",
    "      % mean_squared_error(y_testA,neigh2.predict(x_testA)))\n",
    "print('explained_variance_score: %.2f'%explained_variance_score(y_testA, neigh2.predict(x_testA)))"
   ]
  },
  {
   "cell_type": "code",
   "execution_count": 11,
   "metadata": {
    "collapsed": false
   },
   "outputs": [
    {
     "name": "stderr",
     "output_type": "stream",
     "text": [
      "E:\\Anaconda3\\lib\\site-packages\\statsmodels\\nonparametric\\kdetools.py:20: VisibleDeprecationWarning: using a non-integer number instead of an integer will result in an error in the future\n",
      "  y = X[:m/2+1] + np.r_[0,X[m/2+1:],0]*1j\n"
     ]
    },
    {
     "data": {
      "text/plain": [
       "<matplotlib.legend.Legend at 0x207abae0748>"
      ]
     },
     "execution_count": 11,
     "metadata": {},
     "output_type": "execute_result"
    },
    {
     "data": {
      "image/png": "[encoded data removed]",
      "text/plain": [
       "<matplotlib.figure.Figure at 0x207a7671f60>"
      ]
     },
     "metadata": {},
     "output_type": "display_data"
    }
   ],
   "source": [
    "sns.distplot(neigh2.predict(x_trainA),rug=True,label=\"IMDB Scores\").legend()"
   ]
  },
  {
   "cell_type": "code",
   "execution_count": 12,
   "metadata": {
    "collapsed": false
   },
   "outputs": [
    {
     "name": "stdout",
     "output_type": "stream",
     "text": [
      "Score: 0.01\n",
      "Mean squared error: 1.16\n",
      "explained_variance_score: 0.02\n"
     ]
    }
   ],
   "source": [
    "neigh3 = KNeighborsRegressor(n_neighbors=25)\n",
    "neigh3.fit(x_trainA,y_trainA)\n",
    "print('Score: %.2f' % neigh3.score(x_testA, y_testA))\n",
    "print(\"Mean squared error: %.2f\"\n",
    "      % mean_squared_error(y_testA,neigh3.predict(x_testA)))\n",
    "print('explained_variance_score: %.2f'%explained_variance_score(y_testA, neigh3.predict(x_testA)))"
   ]
  },
  {
   "cell_type": "code",
   "execution_count": 13,
   "metadata": {
    "collapsed": false
   },
   "outputs": [
    {
     "name": "stderr",
     "output_type": "stream",
     "text": [
      "E:\\Anaconda3\\lib\\site-packages\\statsmodels\\nonparametric\\kdetools.py:20: VisibleDeprecationWarning: using a non-integer number instead of an integer will result in an error in the future\n",
      "  y = X[:m/2+1] + np.r_[0,X[m/2+1:],0]*1j\n"
     ]
    },
    {
     "data": {
      "text/plain": [
       "<matplotlib.legend.Legend at 0x207aef642b0>"
      ]
     },
     "execution_count": 13,
     "metadata": {},
     "output_type": "execute_result"
    },
    {
     "data": {
      "image/png": "[encoded data removed]",
      "text/plain": [
       "<matplotlib.figure.Figure at 0x207aba70f60>"
      ]
     },
     "metadata": {},
     "output_type": "display_data"
    }
   ],
   "source": [
    "sns.distplot(neigh3.predict(x_trainA),rug=True,label=\"IMDB Scores\").legend()"
   ]
  },
  {
   "cell_type": "code",
   "execution_count": 14,
   "metadata": {
    "collapsed": false
   },
   "outputs": [
    {
     "name": "stdout",
     "output_type": "stream",
     "text": [
      "Score: -0.01\n",
      "Mean squared error: 1.18\n",
      "explained_variance_score: -0.01\n"
     ]
    }
   ],
   "source": [
    "neigh4 = KNeighborsRegressor(n_neighbors=50)\n",
    "neigh4.fit(x_trainA,y_trainA)\n",
    "print('Score: %.2f' % neigh4.score(x_testA, y_testA))\n",
    "print(\"Mean squared error: %.2f\"\n",
    "      % mean_squared_error(y_testA,neigh4.predict(x_testA)))\n",
    "print('explained_variance_score: %.2f'%explained_variance_score(y_testA, neigh4.predict(x_testA)))"
   ]
  },
  {
   "cell_type": "code",
   "execution_count": 15,
   "metadata": {
    "collapsed": false
   },
   "outputs": [
    {
     "name": "stderr",
     "output_type": "stream",
     "text": [
      "E:\\Anaconda3\\lib\\site-packages\\statsmodels\\nonparametric\\kdetools.py:20: VisibleDeprecationWarning: using a non-integer number instead of an integer will result in an error in the future\n",
      "  y = X[:m/2+1] + np.r_[0,X[m/2+1:],0]*1j\n"
     ]
    },
    {
     "data": {
      "text/plain": [
       "<matplotlib.legend.Legend at 0x207b33d54a8>"
      ]
     },
     "execution_count": 15,
     "metadata": {},
     "output_type": "execute_result"
    },
    {
     "data": {
      "image/png": "[encoded data removed]",
      "text/plain": [
       "<matplotlib.figure.Figure at 0x207aa8c98d0>"
      ]
     },
     "metadata": {},
     "output_type": "display_data"
    }
   ],
   "source": [
    "sns.distplot(neigh4.predict(x_trainA),rug=True,label=\"IMDB Scores\").legend()"
   ]
  },
  {
   "cell_type": "markdown",
   "metadata": {},
   "source": [
    "In general, KNN performs better than linear regression. We have tried three different neighbors in KNN methods,namely 15,25,50. Although normaly increasing n should lead in better performance. In this case n=25 performs best in that it has relatively low Mean squared error. The general curve is much more similar to the original data. Yet,still it does not predict the score less than 5 or more than 8. "
   ]
  },
  {
   "cell_type": "markdown",
   "metadata": {},
   "source": [
    "We now apply different methods to classify whether a movie is a good movie or a bad movie. First we suppose movies that have imdb_score above average are good movies. In this case, movies have score over 6.5 are good ones. Then we use GradientBoostingClassifier,DecisionTreeClassifier,KNeighborsClassifier and RandomForestClassifier respectively to classify our data. Using roc_auc_score to rank these methods, we found that GradientBoostingClassifier performs best, following by  RandomForestClassifier. KNeighborsClassifier peforms worst. So when classify a movie is bad or good, we shall apply GradientBoostingClassifier."
   ]
  },
  {
   "cell_type": "code",
   "execution_count": 17,
   "metadata": {
    "collapsed": false
   },
   "outputs": [
    {
     "data": {
      "text/plain": [
       "0.72245070946369649"
      ]
     },
     "execution_count": 17,
     "metadata": {},
     "output_type": "execute_result"
    }
   ],
   "source": [
    "mid = np.percentile(y_trainA,50)\n",
    "y_train = [int(i) for i in list(y_trainA>=mid)]\n",
    "y_test =  [int(i) for i in list(y_testA>=mid)]\n",
    "\n",
    "from sklearn.ensemble import GradientBoostingClassifier\n",
    "from sklearn.metrics import roc_auc_score\n",
    "model = GradientBoostingClassifier(n_estimators=100, learning_rate=1.0, max_depth=1, random_state=0)\n",
    "model.fit(x_trainA,y_train)\n",
    "roc_auc_score(y_test, model.predict(x_testA))\n"
   ]
  },
  {
   "cell_type": "code",
   "execution_count": 19,
   "metadata": {
    "collapsed": false
   },
   "outputs": [
    {
     "data": {
      "text/plain": [
       "0.6463125618969775"
      ]
     },
     "execution_count": 19,
     "metadata": {},
     "output_type": "execute_result"
    }
   ],
   "source": [
    "from sklearn.tree import DecisionTreeClassifier\n",
    "model = DecisionTreeClassifier()\n",
    "model.fit(x_trainA,y_train)\n",
    "roc_auc_score(y_test, model.predict(x_testA))"
   ]
  },
  {
   "cell_type": "code",
   "execution_count": 24,
   "metadata": {
    "collapsed": false
   },
   "outputs": [
    {
     "data": {
      "text/plain": [
       "0.52621837037421448"
      ]
     },
     "execution_count": 24,
     "metadata": {},
     "output_type": "execute_result"
    }
   ],
   "source": [
    "from sklearn.neighbors import KNeighborsClassifier\n",
    "model = KNeighborsClassifier(n_neighbors=10)\n",
    "model.fit(x_trainA,y_train)\n",
    "roc_auc_score(y_test, model.predict(x_testA))"
   ]
  },
  {
   "cell_type": "code",
   "execution_count": 25,
   "metadata": {
    "collapsed": false
   },
   "outputs": [
    {
     "data": {
      "text/plain": [
       "0.68449948320078191"
      ]
     },
     "execution_count": 25,
     "metadata": {},
     "output_type": "execute_result"
    }
   ],
   "source": [
    "from sklearn.ensemble import RandomForestClassifier\n",
    "model = RandomForestClassifier()\n",
    "model.fit(x_trainA,y_train)\n",
    "roc_auc_score(y_test, model.predict(x_testA))"
   ]
  },
  {
   "cell_type": "code",
   "execution_count": null,
   "metadata": {
    "collapsed": true
   },
   "outputs": [],
   "source": []
  }
 ],
 "metadata": {
  "anaconda-cloud": {},
  "kernelspec": {
   "display_name": "Python [Root]",
   "language": "python",
   "name": "Python [Root]"
  },
  "language_info": {
   "codemirror_mode": {
    "name": "ipython",
    "version": 3
   },
   "file_extension": ".py",
   "mimetype": "text/x-python",
   "name": "python",
   "nbconvert_exporter": "python",
   "pygments_lexer": "ipython3",
   "version": "3.5.2"
  }
 },
 "nbformat": 4,
 "nbformat_minor": 0
}
